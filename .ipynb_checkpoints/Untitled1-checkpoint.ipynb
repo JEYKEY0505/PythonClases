{
 "cells": [
  {
   "cell_type": "code",
   "execution_count": 10,
   "metadata": {},
   "outputs": [
    {
     "name": "stdout",
     "output_type": "stream",
     "text": [
      "[ 5  8 11 10]\n",
      "[ 9  5 10  6]\n"
     ]
    },
    {
     "data": {
      "image/png": "[encoded data removed]",
      "text/plain": [
       "<Figure size 432x288 with 1 Axes>"
      ]
     },
     "metadata": {
      "needs_background": "light"
     },
     "output_type": "display_data"
    },
    {
     "data": {
      "image/png": "[encoded data removed]",
      "text/plain": [
       "<Figure size 432x288 with 1 Axes>"
      ]
     },
     "metadata": {
      "needs_background": "light"
     },
     "output_type": "display_data"
    },
    {
     "data": {
      "image/png": "[encoded data removed]",
      "text/plain": [
       "<Figure size 432x288 with 1 Axes>"
      ]
     },
     "metadata": {
      "needs_background": "light"
     },
     "output_type": "display_data"
    },
    {
     "data": {
      "image/png": "[encoded data removed]",
      "text/plain": [
       "<Figure size 432x288 with 1 Axes>"
      ]
     },
     "metadata": {
      "needs_background": "light"
     },
     "output_type": "display_data"
    },
    {
     "name": "stdout",
     "output_type": "stream",
     "text": [
      "El punto se encuentra en la posicion x= [7.5] y y= [8.375]\n"
     ]
    }
   ],
   "source": [
    "import numpy as np\n",
    "import random \n",
    "import matplotlib.pyplot as plt\n",
    "import math\n",
    "def main():\n",
    "    posx=np.array([random.randint(1,11) for i in range(4)])\n",
    "    posy=np.array([random.randint(1,11) for i in range(4)])\n",
    "    print(posx)\n",
    "    print(posy)\n",
    "    plt.scatter(posx, posy)\n",
    "    plt.show()\n",
    "    while len(posx)>1:\n",
    "        posx=list(posx)\n",
    "        posy=list(posy)\n",
    "        i=random.randint(0,(len(posx)-1))\n",
    "        posx, posy=minimo(posx,posy,i)\n",
    "        posx=np.array(posx)\n",
    "        posy=np.array(posy)\n",
    "        plt.scatter(posx, posy, color=\"red\")\n",
    "        plt.show()\n",
    "        \n",
    "    \n",
    "    print(f'El punto se encuentra en la posicion x= {posx} y y= {posy}')\n",
    "    \n",
    "\n",
    "def distancia(x_a, y_a, x_s, y_s):\n",
    "    return math.sqrt((x_a-x_s)**2 + (y_a-y_s)**2)\n",
    "def nuevo(pos_x,pos_y,ahora, pos):\n",
    "    x=(pos_x[ahora]+pos_x[pos])/2\n",
    "    y=(pos_y[ahora]+pos_y[pos])/2\n",
    "    return x, y\n",
    "def minimo(pos_x,pos_y, ahora):\n",
    "    d2=100\n",
    "    for j in range(len(pos_x)):\n",
    "        d=distancia(pos_x[ahora], pos_y[ahora], pos_x[j],pos_y[j])\n",
    "        if j==ahora:\n",
    "            continue\n",
    "        if d<d2:\n",
    "            d2=d\n",
    "            pos=j\n",
    "    nuevoX, nuevoY= nuevo(pos_x,pos_y,ahora, pos)\n",
    "    if pos<ahora:\n",
    "        pos_y.pop(ahora)\n",
    "        pos_x.pop(ahora)\n",
    "        pos_x.pop(pos)\n",
    "        pos_y.pop(pos)\n",
    "    else:\n",
    "        pos_x.pop(pos)\n",
    "        pos_y.pop(pos)\n",
    "        pos_y.pop(ahora)\n",
    "        pos_x.pop(ahora)\n",
    "    \n",
    "    pos_x.append(nuevoX)\n",
    "    pos_y.append(nuevoY)\n",
    "    return pos_x, pos_y\n",
    "\n",
    "\n",
    "   \n",
    "    \n",
    "if __name__=='__main__':\n",
    "    main()\n",
    "    "
   ]
  },
  {
   "cell_type": "code",
   "execution_count": null,
   "metadata": {},
   "outputs": [],
   "source": []
  }
 ],
 "metadata": {
  "kernelspec": {
   "display_name": "Python 3",
   "language": "python",
   "name": "python3"
  },
  "language_info": {
   "codemirror_mode": {
    "name": "ipython",
    "version": 3
   },
   "file_extension": ".py",
   "mimetype": "text/x-python",
   "name": "python",
   "nbconvert_exporter": "python",
   "pygments_lexer": "ipython3",
   "version": "3.8.5"
  }
 },
 "nbformat": 4,
 "nbformat_minor": 4
}
